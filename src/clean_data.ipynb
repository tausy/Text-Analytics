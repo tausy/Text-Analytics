{
 "cells": [
  {
   "cell_type": "markdown",
   "metadata": {},
   "source": [
    "# Used to clean blog data"
   ]
  },
  {
   "cell_type": "code",
   "execution_count": null,
   "metadata": {},
   "outputs": [],
   "source": [
    "# Created: 22 Feb 2019"
   ]
  },
  {
   "cell_type": "code",
   "execution_count": 1,
   "metadata": {},
   "outputs": [],
   "source": [
    "import numpy as np\n",
    "import pandas as pd\n",
    "\n",
    "import random\n",
    "import os\n",
    "import xmltodict, json\n",
    "import csv"
   ]
  },
  {
   "cell_type": "code",
   "execution_count": 22,
   "metadata": {},
   "outputs": [],
   "source": [
    "# Functions\n",
    "def convertXML(name):\n",
    "    \"\"\"\n",
    "    Converts a blog to a list of dates and posts \n",
    "    \n",
    "    name: blog title\n",
    "    \n",
    "    \"\"\"\n",
    "    \n",
    "    with open (\"data/blogs/{}\".format(name), \"r\", encoding = \"ISO-8859-1\") as myfile:\n",
    "        data=myfile.read().replace('\\n', '')\n",
    "\n",
    "    data = data.replace(\"<Blog><date>\",'')\n",
    "    data = data.replace(\"</post></Blog>\",'')\n",
    "    data = data.replace('#','')\n",
    "    data = data.replace(\"</date><post>\",'#')\n",
    "    data = data.replace(\"</post><date>\",'#')\n",
    "\n",
    "    data = data.split('#')\n",
    "    #print(data)\n",
    "    data = np.array(data)\n",
    "    \n",
    "    return data\n",
    "\n",
    "def writeToCSV(author,name,csv_path): \n",
    "    \"\"\"\n",
    "    Returns a list of strings of the for author,age,gender,date,post\n",
    "    \n",
    "    author: author id\n",
    "    name: blog title \n",
    "    csv_path: path to csv\n",
    "    \"\"\"\n",
    "    age = name.split(\".\")[2]\n",
    "    gender = name.split(\".\")[1]\n",
    "\n",
    "    data = convertXML(name)\n",
    "    dates = data[::2]\n",
    "    dates = [d.replace(',','/') for d in dates ]\n",
    "    posts = data[1::2]\n",
    "    with open(csv_path, 'a') as writeFile:\n",
    "        csv.register_dialect('myDialect', delimiter = '#')\n",
    "        writer = csv.writer(writeFile, dialect='myDialect')\n",
    "        \n",
    "        for i in range(len(dates)):\n",
    "            #line = \"#\".join(map(str,[author,age,gender,dates[i],posts[i]]))\n",
    "            row = [author,age,gender,dates[i],posts[i]]\n",
    "            writer.writerow(row)\n",
    "            \n",
    "    writeFile.close()\n"
   ]
  },
  {
   "cell_type": "markdown",
   "metadata": {},
   "source": [
    "### Write raw blog data to a csv"
   ]
  },
  {
   "cell_type": "code",
   "execution_count": 33,
   "metadata": {},
   "outputs": [
    {
     "name": "stdout",
     "output_type": "stream",
     "text": [
      "19320\n",
      "3489929.female.25.Student.Cancer.xml\n"
     ]
    }
   ],
   "source": [
    "#Read in blog titles\n",
    "titles = os.listdir(\"data/blogs/\")\n",
    "#titles = random.sample(titles, 1000)\n",
    "print(len(titles))\n",
    "print(titles[1])"
   ]
  },
  {
   "cell_type": "code",
   "execution_count": 34,
   "metadata": {},
   "outputs": [
    {
     "name": "stdout",
     "output_type": "stream",
     "text": [
      "Processed 0/19320 blogs\n",
      "Processed 1000/19320 blogs\n",
      "Processed 2000/19320 blogs\n",
      "Processed 3000/19320 blogs\n",
      "Processed 4000/19320 blogs\n",
      "Processed 5000/19320 blogs\n",
      "Processed 6000/19320 blogs\n",
      "Processed 7000/19320 blogs\n",
      "Processed 8000/19320 blogs\n",
      "Processed 9000/19320 blogs\n",
      "Processed 10000/19320 blogs\n",
      "Processed 11000/19320 blogs\n",
      "Processed 12000/19320 blogs\n",
      "Processed 13000/19320 blogs\n",
      "Processed 14000/19320 blogs\n",
      "Processed 15000/19320 blogs\n",
      "Processed 16000/19320 blogs\n",
      "Processed 17000/19320 blogs\n",
      "Processed 18000/19320 blogs\n",
      "Processed 19000/19320 blogs\n"
     ]
    }
   ],
   "source": [
    "csv_path = 'data/blogs_raw.csv'\n",
    "\n",
    "#Initialize csv file\n",
    "with open(csv_path, 'w') as writeFile:\n",
    "        csv.register_dialect('myDialect', delimiter = '#')\n",
    "        writer = csv.writer(writeFile, dialect='myDialect')\n",
    "        row = [\"author\",\"age\",\"gender\",\"date\",\"post\"]\n",
    "        writer.writerow(row)\n",
    "            \n",
    "writeFile.close()\n",
    "\n",
    "#write blogs to csv\n",
    "for i,t in enumerate(titles):\n",
    "    writeToCSV(i,t,'data/blogs_raw.csv')\n",
    "    if i%1000 == 0: print(\"Processed {}/19320 blogs\".format(i))\n",
    "    "
   ]
  },
  {
   "cell_type": "code",
   "execution_count": 37,
   "metadata": {},
   "outputs": [
    {
     "data": {
      "text/plain": [
       "681288"
      ]
     },
     "execution_count": 37,
     "metadata": {},
     "output_type": "execute_result"
    }
   ],
   "source": [
    "file = pd.read_csv(\"data/blogs_raw.csv\",sep=\"#\")\n",
    "len(file)"
   ]
  },
  {
   "cell_type": "markdown",
   "metadata": {},
   "source": [
    "# Old code"
   ]
  },
  {
   "cell_type": "code",
   "execution_count": 185,
   "metadata": {},
   "outputs": [],
   "source": [
    "\n",
    "def convertXML2(name):\n",
    "\n",
    "    with open (\"data/blogs/{}\".format(name), \"r\",encoding = \"ISO-8859-1\") as myfile:\n",
    "        data=myfile.read().replace('\\n', '')\n",
    "\n",
    "    obj = xmltodict.parse(data)\n",
    "    blogs_json = json.dumps(obj)\n",
    "    blogs_json = json.loads(blogs_json)\n",
    "\n",
    "    date = blogs_json['Blog']['date']\n",
    "    post = blogs_json['Blog']['post']\n",
    "\n",
    "    for i in zip(date,post):\n",
    "        print(i)\n",
    "    "
   ]
  },
  {
   "cell_type": "code",
   "execution_count": null,
   "metadata": {},
   "outputs": [],
   "source": [
    "name = titles[1]\n",
    "with open (\"data/blogs/{}\".format(name), \"r\") as myfile:\n",
    "        data=myfile.read().replace('\\n', '')\n",
    "xml = '<root>' + data + '</root>'\n",
    "\n",
    "obj = xmltodict.parse(xml)\n",
    "blogs_json = json.dumps(obj)\n",
    "blogs_json = json.loads(blogs_json)\n",
    "\n",
    "#convertXML(xml)"
   ]
  }
 ],
 "metadata": {
  "kernelspec": {
   "display_name": "Python 3",
   "language": "python",
   "name": "python3"
  },
  "language_info": {
   "codemirror_mode": {
    "name": "ipython",
    "version": 3
   },
   "file_extension": ".py",
   "mimetype": "text/x-python",
   "name": "python",
   "nbconvert_exporter": "python",
   "pygments_lexer": "ipython3",
   "version": "3.6.6"
  }
 },
 "nbformat": 4,
 "nbformat_minor": 2
}
