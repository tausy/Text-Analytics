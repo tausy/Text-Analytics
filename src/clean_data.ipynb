{
 "cells": [
  {
   "cell_type": "markdown",
   "metadata": {},
   "source": [
    "# Used to clean blog data"
   ]
  },
  {
   "cell_type": "code",
   "execution_count": null,
   "metadata": {},
   "outputs": [],
   "source": [
    "# Created: 22 Feb 2019"
   ]
  },
  {
   "cell_type": "code",
   "execution_count": 241,
   "metadata": {},
   "outputs": [],
   "source": [
    "import numpy as np\n",
    "import pandas as pd\n",
    "\n",
    "import random\n",
    "import os\n",
    "import xmltodict, json\n",
    "import csv"
   ]
  },
  {
   "cell_type": "code",
   "execution_count": 224,
   "metadata": {},
   "outputs": [
    {
     "name": "stdout",
     "output_type": "stream",
     "text": [
      "1000\n",
      "4243147.female.24.indUnk.Scorpio.xml\n"
     ]
    }
   ],
   "source": [
    "#Read in blog titles\n",
    "titles = os.listdir(\"data/blogs/\")\n",
    "titles = random.sample(titles, 1000)\n",
    "print(len(titles))\n",
    "print(titles[1])"
   ]
  },
  {
   "cell_type": "code",
   "execution_count": 225,
   "metadata": {
    "collapsed": true
   },
   "outputs": [
    {
     "data": {
      "text/plain": [
       "array(['02,August,2004',\n",
       "       \"            Very insightful. I'm Catholic, but have been studying Protestantism for years, and this helped a lot in understanding subtlies in Christianity. Plus, it's a great contrast to Aristotle.          \",\n",
       "       '02,August,2004',\n",
       "       \"            I really liked it. Not as funny as all the reviews say, but definitely witty. A tad insightful. Something you'd like to read if you are not feeling to good about your life and are loosing hope; this book can definitely help you regain it. Really a great read!          \",\n",
       "       '02,August,2004',\n",
       "       '            It was definitely funny, though not hillariously funny. A bright note on a gloomy day.          ',\n",
       "       '02,August,2004',\n",
       "       '            Got to page 16, and decided I had wasted $14.  What can I say about this book:  A TOTAL PIECE OF UNACADEMIC CRAP.  Supposed to be a linguistics book, it\\'s written in a rather unorthodox way.  First, how many academians, or people interested in this book, would actually know anything about \"Moe the Bartender\" ( The Simpsons ) and his idiosyncratic use of speech.  Then, it\\'s written for a typical American (a.k.a. monolingual) in complete disregard to the reverence and respect that should be given to other older languages, like those stemming from Latin.  Furthermore, it characterizes a misrepresentation of the spoken word in other languages with phonetic spellings that should be accurate, yet represent sounds that do not exist in English, therefore degrading the quality of a language that may have been spoken for thousands of centuries.    I positively cannot understand why anyone would bother to write a book that makes him seem like an ignorant linguist-wanna-be, after working so long on achieving a Ph.D., and thus making the bestowing institution reconsider their original decision - but to no avail.  Mr. McWhorter should have been a comedian instead.  It was trully disappointing to find that a publishing company out there disgraced itself by publishing this book; on the other hand, I am glad it was not the publishing house of an academic institution.  Nevertheless, books like this one should never hit the shelves.          ',\n",
       "       '02,August,2004',\n",
       "       \"            Communist Manifesto by Karl Marx and Friedrich Engels -- Not sure about it yet; let you know when I'm done.   Also reading The Complete Idiot's Guide to Knitting and Crocheting by ... well, a complete idiot who knows how to knit and crochet, I guess.   Actually, it's by Barbara Breiter and Gail Diven.  And It's been very helpful so far.          \",\n",
       "       '02,August,2004',\n",
       "       '            The Rule of Saint Benedict by ... well, St. Benedict. Interesting take on the setting of rules in the Church in Medieval Europe. Still read 3 times a year by Benedictine Monks. Worth reading, if you like to get different perspectives on things, specially on Christian life.          ',\n",
       "       '02,August,2004',\n",
       "       \"            Haven't decided what I think about it yet.          \",\n",
       "       '02,August,2004',\n",
       "       '            Definitely a useful resource when going blindfolded into the graduate applications process. Certainly does put things into a new perspective, and illuminates on a lot of dark corners.  Unfortunately, not enough people - who would like to go to grad school - get their hands on this little guide filled with insight into the unknow at a moment when they can certainly use it to their greatest advantage.  Nevertheless, reading it may result in the difference between being given a chance to become a Ph.D. and relegating and resigning yourself to living the life of a hopeful academic trapped in the webs of capitalism.          ',\n",
       "       '02,August,2004',\n",
       "       \"            Well, I don't tend to read history books which do not present the reader with original documents as evidence.  However, this book tells history in a way which compells the reader to keep going, while the hours pass as if they were minutes. Even though Herman does go back and forth from chapter to chapter, he manages to cover as much as possible the adventures and disaventures of Scots around the world, from the days before the Union until the present.  Definitely an enjoyable and worthwhile read.          \",\n",
       "       '02,August,2004',\n",
       "       '            Definitely practical - though not greatly useful if you already   know   that you want to go to law school [if not necessarily be a lawyer].  However, it does provide you with a nice list of further readings.          ',\n",
       "       '02,August,2004',\n",
       "       \"            Great book!  Okay, I must admit that the guy does not provided me with enough substantiation, enough physical proof, full original documents.  On the other hand, I do understand that that can be anywhere from dangerous to illegal.  Nevertheless, not everthing is within the scope of believable without physical evidence.  Now, I must say that the only reason I did not put the book down and called it bull, is that Palast is a former UofCer; and I could tell from the moment I began reading, before I even knew he is one of us.  That having been said, I'll trust he has not forgotten that no claim is to be made unsubstantiate, and all claims must be justified.          \",\n",
       "       '02,August,2004',\n",
       "       \"           I am currently greatly stuffed. I haven't been eating, well... often. Actually I have forgotten to have dinner two days in a row. And I have been sleeping even less than that. Thank God for makeup!!!Anyway, have just been going through the motions. I have gathered a volunteer for recommendation; and now I just have to update my CV, edit my BA paper into perfection, and ask one of my old professors for another. Not that I don't need to ask yet another three (yes, a Grand total of 4!) for law school recommendations. Right now I am really tired... . I am going to bed.Topic of the day: We are all equal under the law, but we are not all equal. Big, controversial subject, yet one I find to be rather true.Sideline Topic: Where have consideration, curtesy and manners gone?          \",\n",
       "       '02,August,2004',\n",
       "       \"           Well, I wanted to take the CPA Exam, as well as the Real Estate Agent Exam; but I don't meet the requirements right now. In Illinois, you have to have at least 150 credits to take the Exam, and an accounting concentration or equivalent. However, I went to an impractical institution, which I regret nor in the least bit; but would have handier if it hadn't been.Anyway, I am applying for a M.S. in Accounting. It's been five, six years since I last had to fill out application forms, and look for FinAid. And this year, I get to do it twice! That's ridiculous.On the other hand, I am feeling a lot better now that I have something to focus on, and look forward to. The QLC just got a bit better. However, as I remember my student loans, rent and bills, it all becomes a bit grim again. When will it end... .          \",\n",
       "       '02,August,2004',\n",
       "       \"            Yup, that's the name of my new blog, which I hope to figure out how to integrate to this one; or vice-versa.   You can find it at  urlLink http://qlcrisis.blogspot.com/ .  In any case, the latest crisis, of which I don't talk about there, is got everything to do with my wireless network in my new apartment.  I just keep coming and going like a bad tide.  And talking about Tide, they have really gotten themselves (and their customers, of course) a nice fragrance, as it smells like baby blankets (clean ones, that is).  Okay, no more rambling.          \",\n",
       "       '02,August,2004',\n",
       "       \"           No matter how down I may be at any given time, Google is always a great fix.  I don't know what I would do without those guys.  I mean, when something is not working at work, I google for a fix.  When I can't remember something that I had found before, I google for it or a reminder.  And now, they have email!  Uhm... gmail!  WooHoo!   urlLink    When will they stop impressing me, by making everything so much better.  Uhhh... I hope, never.&nbsp; urlLink            \",\n",
       "       '02,August,2004',\n",
       "       \"           I must admit I have put a lot of time into coming up with a design that I like for each blog I've had, but this time -- well, I just can't come up with something that I like. I just don't really care; so I am gonna have to go with one of the presets.I really find it hard to make it through each day lately. Hadn't had this problem in so long, that I'd forgotten what it was like. I could even say that I am depressed, but I refuse to do that. Just as I refuse to admit to myself what it is that's depressing me. If I say it, then it's true; and if it's true then I have to do something about. There is just nothing I can really do about it right now; because however much I want it there are some other things that I could never forgive myself if I gave them up.Enough generalizing for today, now.         \"],\n",
       "      dtype='<U1459')"
      ]
     },
     "execution_count": 225,
     "metadata": {},
     "output_type": "execute_result"
    }
   ],
   "source": [
    "def convertXML(name):\n",
    "    \"\"\"\n",
    "    Converts a blog to a list of dates and posts \n",
    "    \n",
    "    name: blog title\n",
    "    \n",
    "    \"\"\"\n",
    "    \n",
    "    with open (\"data/blogs/{}\".format(name), \"r\", encoding = \"ISO-8859-1\") as myfile:\n",
    "        data=myfile.read().replace('\\n', '')\n",
    "\n",
    "    data = data.replace(\"<Blog><date>\",'')\n",
    "    data = data.replace(\"</post></Blog>\",'')\n",
    "    data = data.replace('#','')\n",
    "    data = data.replace(\"</date><post>\",'#')\n",
    "    data = data.replace(\"</post><date>\",'#')\n",
    "\n",
    "    data = data.split('#')\n",
    "    #print(data)\n",
    "    data = np.array(data)\n",
    "    \n",
    "    return data\n",
    "name = titles[7]\n",
    "convertXML(name)\n"
   ]
  },
  {
   "cell_type": "code",
   "execution_count": 249,
   "metadata": {},
   "outputs": [],
   "source": [
    "def writeToCSV(author,name,csv_path): \n",
    "    \"\"\"\n",
    "    Returns a list of strings of the for author,age,gender,date,post\n",
    "    \n",
    "    author: author id\n",
    "    name: blog title \n",
    "    csv_path: path to csv\n",
    "    \"\"\"\n",
    "    age = name.split(\".\")[2]\n",
    "    gender = name.split(\".\")[1]\n",
    "\n",
    "    data = convertXML(name)\n",
    "    dates = data[::2]\n",
    "    dates = [d.replace(',','/') for d in dates ]\n",
    "    posts = data[1::2]\n",
    "    \n",
    "    \n",
    "    with open(csv_path, 'w') as writeFile:\n",
    "        \n",
    "        csv.register_dialect('myDialect', delimiter = '#')\n",
    "        writer = csv.writer(writeFile, dialect='myDialect')\n",
    "        \n",
    "        for i in range(len(dates)):\n",
    "        \n",
    "            #line = \"#\".join(map(str,[author,age,gender,dates[i],posts[i]]))\n",
    "            row = [author,age,gender,dates[i],posts[i]]\n",
    "            writer.writerow(row)\n",
    "    writeFile.close()"
   ]
  },
  {
   "cell_type": "code",
   "execution_count": null,
   "metadata": {},
   "outputs": [],
   "source": []
  },
  {
   "cell_type": "code",
   "execution_count": null,
   "metadata": {},
   "outputs": [],
   "source": [
    "for i in range(0,len(data),2):\n",
    "    print(data[i]+\",\" + data[i+1])\n",
    "\"\"\""
   ]
  },
  {
   "cell_type": "code",
   "execution_count": null,
   "metadata": {},
   "outputs": [],
   "source": [
    "file = pd.read_csv(\"people.csv\",sep=\"#\")\n",
    "file[]"
   ]
  },
  {
   "cell_type": "code",
   "execution_count": 192,
   "metadata": {},
   "outputs": [
    {
     "name": "stdout",
     "output_type": "stream",
     "text": [
      "4\n",
      "16\n",
      "8\n",
      "28\n",
      "16\n",
      "12\n",
      "108\n",
      "6\n",
      "36\n",
      "128\n",
      "2\n",
      "46\n",
      "1210\n",
      "68\n",
      "222\n",
      "12\n",
      "38\n",
      "4\n",
      "4\n",
      "8\n",
      "14\n",
      "18\n",
      "4\n",
      "6\n",
      "68\n",
      "8\n",
      "34\n",
      "18\n",
      "50\n",
      "28\n",
      "4\n",
      "18\n",
      "48\n",
      "32\n",
      "98\n",
      "60\n",
      "86\n",
      "6\n",
      "10\n",
      "74\n",
      "6\n",
      "12\n",
      "4\n",
      "14\n",
      "6\n",
      "26\n",
      "4\n",
      "118\n",
      "16\n",
      "306\n",
      "4\n",
      "6\n",
      "298\n",
      "6\n",
      "22\n",
      "2\n",
      "22\n",
      "20\n",
      "14\n",
      "2\n",
      "4\n",
      "282\n",
      "12\n",
      "4\n",
      "8\n",
      "88\n",
      "26\n",
      "14\n",
      "110\n",
      "6\n",
      "10\n",
      "158\n",
      "12\n",
      "10\n",
      "64\n",
      "250\n",
      "98\n",
      "8\n",
      "30\n",
      "158\n",
      "10\n",
      "4\n",
      "324\n",
      "38\n",
      "10\n",
      "16\n",
      "176\n",
      "28\n",
      "34\n",
      "54\n",
      "18\n",
      "16\n",
      "2262\n",
      "88\n",
      "8\n",
      "8\n",
      "54\n",
      "32\n",
      "1242\n",
      "8\n"
     ]
    }
   ],
   "source": [
    "for t in titles:\n",
    "    #print(t)\n",
    "    convertXML(t)"
   ]
  },
  {
   "cell_type": "code",
   "execution_count": 172,
   "metadata": {},
   "outputs": [
    {
     "name": "stdout",
     "output_type": "stream",
     "text": [
      "108\n"
     ]
    }
   ],
   "source": [
    "convertXML(titles[6])"
   ]
  },
  {
   "cell_type": "markdown",
   "metadata": {},
   "source": [
    "# Old code"
   ]
  },
  {
   "cell_type": "code",
   "execution_count": 188,
   "metadata": {},
   "outputs": [
    {
     "name": "stdout",
     "output_type": "stream",
     "text": [
      "('27,July,2004', \"Hey   folks!!       Well today was pretty good......we had to go to mrs. janice bennet's house because her son was murdered the other night......she was really shook up and it was all really sad!! It was a big thing that happened and it was all my   dad's friends who were involved and if we hadn't have been on vacation then he could have been involved...which is scary!! Well right now i am at whitney's.....we are just sitting here being bored!! Well tomarra night travis is comming over....which will be fun..lol!! Well i guess i need to be going! bye!!\")\n",
      "('22,July,2004', \"Hey Folks!!     Well it like almost 2:30 in the morning, and we are leaving in like 4 hours to go to PC! Whitney is laying on the bed reading her book and i am just sitting typing this! Well i didn't hear from Travis today, and i really wish i had of! It always makes me feel good when he calls me! I just wanted to talk to him before i go to PC! Well i am kinda boored and i'm not sleepy at all! So i guess me and whitney will be up all night...like we usually are! Well i guess that's all i really got to say...so BYE!!\")\n",
      "('20,July,2004', \"Hey Folks!  Well today was pretty good!! I talked to Travis and that always puts me in a good mood!..Saturday was 9 months that we have been together!..On October 17 it will be a year...i am so happy about that....i usually don't stay with one guy that long...but i hope me and travis can stay together forever!! I know that sounds cheezy, but it's true! Well enough about Me and Travis.....Thursday Me and my best friend Whitney are going to PC!! It will be fun....me and her   have alot of fun together! Next Thursday we start back school...which really sucks because this summer seemed really short which it kinda was!! Well I guess i need to go pack......so bye!!\")\n",
      "('17,July,2004', \"Well it is   about 2:15 am   and i amjust sitting here at whitney's house...we can't sleep!!! So technically it is already Saturday wich means today is 9 months that me and travis have been together.....he called me like at 11:45...and he is gonna come over tonight.....i am so excited.....i haven't seen him in almost a   week which is kind of out of the ordinary....we usually see each other like everyday or or every other day so i am really readytosee him!! In about 9 hours me and whitney will be leaving to go shopping at the Tanger outlet mall in Jonesborough.....we are gonna leace for PC Thursday so we are gonna look for us some stuff to wear when we are in Florida!!...Well i guess that is all i got tosay right now....so talk to you later.....bye!!!!\")\n",
      "('16,July,2004', \"Hey folks!!!  Well let's see to day at 12:15 this morning i had to go get my hair done.......i got it back to my natural color.......my natural color is dark brown but i used to have it blonde......but now it is back to brown-and i don't really like it a whole lot....i liked being Blonde!! I also got my hair cut...it is a little different than what i am used to but i like it!! Right now i am at whitney's house and we just got back from seeing anchorman-which was kind of silly-but it was ok!! We saw some of our friends there so that was cool!! I am gonna spend the night with whitney tonight and we are gonna go shopping tomarrow.....which is my absolute favorite thing to do!! Travis hasn't called me in a couple days and i amkinda upset about it....i just can't lose him and i am afraid he might be gonna break up with me or something......which i really hope he doesn't.......and tomarrow will be 9 months that me and him have been together....which i am very happy about!! Well i guess i have said enough so talk to you later.....bye!!\")\n",
      "('14,July,2004', \"Hey everybody!!  Well last night i spent the night with whitney and we didn't go to sleep until like 8:00 this morning and slept until like 2:00, so i haven't felt very good today! And tomarrow me and whitney are going to the mall to get the top of our ear pierced!....so that will be pretty fun i guess!....but today was kinda boring-----but for me everyday is fun!! well i got to go!! BYE!!---have a fantastic day!!\")\n",
      "('12,July,2004', \"HEY!!!  Well let's see- Last night Whitney spent the night with me and we watched some movies and didn't go to sleep until like 4:00 so we slept until like 1:00 today!... Today was pretty boring-Me and whitney just kinda watched TV all day because we didn't really feel good and it wasn't very good weather to go outside!!....But we had an ok time!!....well i guess i need to be going....so bye folks!!\")\n",
      "('10,July,2004', \"Hey folks!! Today i went to the mall with my best friend, whitney! We had a lot of fun....i got me 2 shirts from jc penny and 1 shirt from american eagle!. I don't really feel to good because i just got my belly button pierced monday and it got infected so it hurts really bad! well i guess i need to be going!!so bye....have a great day!!!\")\n"
     ]
    }
   ],
   "source": [
    "convertXML2(titles[1])"
   ]
  },
  {
   "cell_type": "code",
   "execution_count": 185,
   "metadata": {},
   "outputs": [],
   "source": [
    "\n",
    "def convertXML2(name):\n",
    "\n",
    "    with open (\"data/blogs/{}\".format(name), \"r\",encoding = \"ISO-8859-1\") as myfile:\n",
    "        data=myfile.read().replace('\\n', '')\n",
    "\n",
    "    obj = xmltodict.parse(data)\n",
    "    blogs_json = json.dumps(obj)\n",
    "    blogs_json = json.loads(blogs_json)\n",
    "\n",
    "    date = blogs_json['Blog']['date']\n",
    "    post = blogs_json['Blog']['post']\n",
    "\n",
    "    for i in zip(date,post):\n",
    "        print(i)\n",
    "    "
   ]
  },
  {
   "cell_type": "code",
   "execution_count": null,
   "metadata": {},
   "outputs": [],
   "source": [
    "name = titles[1]\n",
    "with open (\"data/blogs/{}\".format(name), \"r\") as myfile:\n",
    "        data=myfile.read().replace('\\n', '')\n",
    "xml = '<root>' + data + '</root>'\n",
    "\n",
    "obj = xmltodict.parse(xml)\n",
    "blogs_json = json.dumps(obj)\n",
    "blogs_json = json.loads(blogs_json)\n",
    "\n",
    "#convertXML(xml)"
   ]
  }
 ],
 "metadata": {
  "kernelspec": {
   "display_name": "Python 3",
   "language": "python",
   "name": "python3"
  },
  "language_info": {
   "codemirror_mode": {
    "name": "ipython",
    "version": 3
   },
   "file_extension": ".py",
   "mimetype": "text/x-python",
   "name": "python",
   "nbconvert_exporter": "python",
   "pygments_lexer": "ipython3",
   "version": "3.6.6"
  }
 },
 "nbformat": 4,
 "nbformat_minor": 2
}
